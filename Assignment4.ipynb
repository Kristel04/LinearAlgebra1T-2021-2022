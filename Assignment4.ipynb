{
  "nbformat": 4,
  "nbformat_minor": 0,
  "metadata": {
    "colab": {
      "name": "Assignment4.ipynb",
      "provenance": [],
      "authorship_tag": "ABX9TyNY3S7BLlTeZ4qjYUJ638/d",
      "include_colab_link": true
    },
    "kernelspec": {
      "name": "python3",
      "display_name": "Python 3"
    },
    "language_info": {
      "name": "python"
    }
  },
  "cells": [
    {
      "cell_type": "markdown",
      "metadata": {
        "id": "view-in-github",
        "colab_type": "text"
      },
      "source": [
        "<a href=\"https://colab.research.google.com/github/Kristel04/LinearAlgebra1T-2021-2022/blob/main/Assignment4.ipynb\" target=\"_parent\"><img src=\"https://colab.research.google.com/assets/colab-badge.svg\" alt=\"Open In Colab\"/></a>"
      ]
    },
    {
      "cell_type": "markdown",
      "source": [
        "##Linear Algebra for CHE\n",
        "## Laboratory 3: Matrix Operations"
      ],
      "metadata": {
        "id": "dZ1YTXp68eC4"
      }
    },
    {
      "cell_type": "markdown",
      "source": [
        "## Objectives\n",
        "1. Be familiar with the fundamental matrix operations.\n",
        "2. Apply the operations to solve the intermediate equations.\n",
        "3. Apply matrix algebra in engineering solutions "
      ],
      "metadata": {
        "id": "pxekvkDH9PRh"
      }
    },
    {
      "cell_type": "markdown",
      "source": [
        "## Discussion"
      ],
      "metadata": {
        "id": "HZ8x8b9Q9E1h"
      }
    },
    {
      "cell_type": "code",
      "source": [
        "import numpy as np\n",
        "import matplotlib.pyplot as plt\n",
        "%matplotlib inline"
      ],
      "metadata": {
        "id": "gAK4kucD8uwk"
      },
      "execution_count": 1,
      "outputs": []
    },
    {
      "cell_type": "markdown",
      "source": [
        "## Transporsition"
      ],
      "metadata": {
        "id": "6xaI6d2v9AKv"
      }
    },
    {
      "cell_type": "markdown",
      "source": [
        "One of the fundamental operations in matrix algebra is Transposition. The transport of a matrix is done by flipping tha values of its elements over its diagonals. With these, rows and columns from the original matrix will be switched. So for a matrix $A$ its transpose is denoted as $A^T$."
      ],
      "metadata": {
        "id": "ZZWXHYL59KsS"
      }
    },
    {
      "cell_type": "markdown",
      "source": [
        "$$A = \\begin{bmatrix} 1 & 4 & 5\\\\7 & -9 & 11 \\\\ 1 & -3 & 5\\end{bmatrix}$$"
      ],
      "metadata": {
        "id": "xb8yYFyw_Pqy"
      }
    },
    {
      "cell_type": "markdown",
      "source": [
        "$$A^T = \\begin{bmatrix} 1 & 7 & 1\\\\4 & -9 & -3 \\\\ 5 & 11 & 5\\end{bmatrix}$$"
      ],
      "metadata": {
        "id": "1sMhqZH09Ojd"
      }
    },
    {
      "cell_type": "markdown",
      "source": [
        "This can now be achieved programmatically by using np.tramspose() or using the T method."
      ],
      "metadata": {
        "id": "ZEKhxLt09tmq"
      }
    },
    {
      "cell_type": "code",
      "source": [
        "A = np.array([\n",
        "    [1,4,5],\n",
        "    [7,-9,11],\n",
        "    [1,-3,5]\n",
        "])\n",
        "A"
      ],
      "metadata": {
        "colab": {
          "base_uri": "https://localhost:8080/"
        },
        "id": "P3QoI--19u3r",
        "outputId": "c6dfe7b3-03d9-4ded-a3cd-4ec568f65438"
      },
      "execution_count": 2,
      "outputs": [
        {
          "output_type": "execute_result",
          "data": {
            "text/plain": [
              "array([[ 1,  4,  5],\n",
              "       [ 7, -9, 11],\n",
              "       [ 1, -3,  5]])"
            ]
          },
          "metadata": {},
          "execution_count": 2
        }
      ]
    },
    {
      "cell_type": "code",
      "source": [
        "AT1 = np.transpose(A)\n",
        "AT1"
      ],
      "metadata": {
        "colab": {
          "base_uri": "https://localhost:8080/"
        },
        "id": "UpgeZ94D-EDB",
        "outputId": "4d385f3b-a9b9-4515-fdf1-8cc43db707e6"
      },
      "execution_count": 3,
      "outputs": [
        {
          "output_type": "execute_result",
          "data": {
            "text/plain": [
              "array([[ 1,  7,  1],\n",
              "       [ 4, -9, -3],\n",
              "       [ 5, 11,  5]])"
            ]
          },
          "metadata": {},
          "execution_count": 3
        }
      ]
    },
    {
      "cell_type": "code",
      "source": [
        "AT2 = A.T\n",
        "AT2"
      ],
      "metadata": {
        "colab": {
          "base_uri": "https://localhost:8080/"
        },
        "id": "gqNiC17H-zkx",
        "outputId": "20c9a8e3-486d-404e-db41-80fbc9cfea77"
      },
      "execution_count": 4,
      "outputs": [
        {
          "output_type": "execute_result",
          "data": {
            "text/plain": [
              "array([[ 1,  7,  1],\n",
              "       [ 4, -9, -3],\n",
              "       [ 5, 11,  5]])"
            ]
          },
          "metadata": {},
          "execution_count": 4
        }
      ]
    },
    {
      "cell_type": "code",
      "source": [
        "np.array_equiv(AT1, AT2)"
      ],
      "metadata": {
        "colab": {
          "base_uri": "https://localhost:8080/"
        },
        "id": "zqaAz-uA-34f",
        "outputId": "d4c68e4b-e7bd-47b6-e281-3fc252169ca2"
      },
      "execution_count": 5,
      "outputs": [
        {
          "output_type": "execute_result",
          "data": {
            "text/plain": [
              "True"
            ]
          },
          "metadata": {},
          "execution_count": 5
        }
      ]
    },
    {
      "cell_type": "code",
      "source": [
        "B = np.array([\n",
        "    [1,2,3,4,5],\n",
        "    [1,3,4,1,4],\n",
        "])\n",
        "B.shape"
      ],
      "metadata": {
        "colab": {
          "base_uri": "https://localhost:8080/"
        },
        "id": "HBLg8TPz_crm",
        "outputId": "e0218368-ba54-4883-9a12-1b7d31eef237"
      },
      "execution_count": 6,
      "outputs": [
        {
          "output_type": "execute_result",
          "data": {
            "text/plain": [
              "(2, 5)"
            ]
          },
          "metadata": {},
          "execution_count": 6
        }
      ]
    },
    {
      "cell_type": "code",
      "source": [
        "np.transpose(B).shape"
      ],
      "metadata": {
        "colab": {
          "base_uri": "https://localhost:8080/"
        },
        "id": "FCboAUXw_sKa",
        "outputId": "510ce1b8-18f4-4c59-919f-37e54d9dddf6"
      },
      "execution_count": 7,
      "outputs": [
        {
          "output_type": "execute_result",
          "data": {
            "text/plain": [
              "(5, 2)"
            ]
          },
          "metadata": {},
          "execution_count": 7
        }
      ]
    },
    {
      "cell_type": "code",
      "source": [
        "B.T.shape"
      ],
      "metadata": {
        "colab": {
          "base_uri": "https://localhost:8080/"
        },
        "id": "VFd-ruuh_xFR",
        "outputId": "401b4a85-80b5-4237-ea67-890afca3cd61"
      },
      "execution_count": 8,
      "outputs": [
        {
          "output_type": "execute_result",
          "data": {
            "text/plain": [
              "(5, 2)"
            ]
          },
          "metadata": {},
          "execution_count": 8
        }
      ]
    },
    {
      "cell_type": "markdown",
      "source": [
        "Try to create own matrix (you can try non-squares) to test transposition."
      ],
      "metadata": {
        "id": "f-aoOjisAbsO"
      }
    },
    {
      "cell_type": "code",
      "source": [
        "Z=np.array([\n",
        "    [2,4,6,8],\n",
        "    [3,6,9,12]\n",
        "])\n",
        "Z.shape"
      ],
      "metadata": {
        "colab": {
          "base_uri": "https://localhost:8080/"
        },
        "id": "AU6d7J8Xd7er",
        "outputId": "c1488f0e-85e6-4dad-b976-6060dfa09f3a"
      },
      "execution_count": 9,
      "outputs": [
        {
          "output_type": "execute_result",
          "data": {
            "text/plain": [
              "(2, 4)"
            ]
          },
          "metadata": {},
          "execution_count": 9
        }
      ]
    },
    {
      "cell_type": "code",
      "source": [
        "np.transpose(Z).shape"
      ],
      "metadata": {
        "colab": {
          "base_uri": "https://localhost:8080/"
        },
        "id": "si0QQLxOeXfD",
        "outputId": "1f0a6fb7-69b1-4354-c731-01fd1c6aa853"
      },
      "execution_count": 10,
      "outputs": [
        {
          "output_type": "execute_result",
          "data": {
            "text/plain": [
              "(4, 2)"
            ]
          },
          "metadata": {},
          "execution_count": 10
        }
      ]
    },
    {
      "cell_type": "code",
      "source": [
        "Z.T.shape"
      ],
      "metadata": {
        "colab": {
          "base_uri": "https://localhost:8080/"
        },
        "id": "pas-eHCIeeks",
        "outputId": "99f375ad-5978-4a52-987c-62323af57a37"
      },
      "execution_count": 11,
      "outputs": [
        {
          "output_type": "execute_result",
          "data": {
            "text/plain": [
              "(4, 2)"
            ]
          },
          "metadata": {},
          "execution_count": 11
        }
      ]
    },
    {
      "cell_type": "code",
      "source": [
        "ZT = Z.T\n",
        "ZT"
      ],
      "metadata": {
        "colab": {
          "base_uri": "https://localhost:8080/"
        },
        "id": "yNAJ0w8vewN7",
        "outputId": "b5f1f384-6f4b-487a-debc-0df7fd0d2237"
      },
      "execution_count": 12,
      "outputs": [
        {
          "output_type": "execute_result",
          "data": {
            "text/plain": [
              "array([[ 2,  3],\n",
              "       [ 4,  6],\n",
              "       [ 6,  9],\n",
              "       [ 8, 12]])"
            ]
          },
          "metadata": {},
          "execution_count": 12
        }
      ]
    },
    {
      "cell_type": "markdown",
      "source": [
        "## Dot Product / Inner Product"
      ],
      "metadata": {
        "id": "bLY4AUUBAdUN"
      }
    },
    {
      "cell_type": "markdown",
      "source": [
        "Using the same operation with matrices. In matrix dot product we are going to get the sum of products of the vectors by row-column pairs. So if we have two matrices and $Y$:"
      ],
      "metadata": {
        "id": "uQUyTld9Aota"
      }
    },
    {
      "cell_type": "markdown",
      "source": [
        "$$X = \\begin{bmatrix} X(0,0) & X(0,1) \\\\X(1,0) & X(1,1)\\end{bmatrix}$$,$$Y = \\begin{bmatrix} X(0,0) & X(0,1) \\\\X(1,0) & X(1,1)\\end{bmatrix}$$\n"
      ],
      "metadata": {
        "id": "bZ_Wf2kW8nQZ"
      }
    },
    {
      "cell_type": "markdown",
      "source": [
        "The dot product will then be computed as:"
      ],
      "metadata": {
        "id": "ar7xik9TfNzj"
      }
    },
    {
      "cell_type": "markdown",
      "source": [
        "$$X.Y = \\begin{bmatrix} X(0,0) * Y(0,0) + X(0,1) * Y(1,0) & X(0,0) * Y(0,1) + X(0,1) * Y(1,1)\\\\ X(1,0) * Y(0,0) + X(1,1) * Y(1,0) & X(1,0) * Y(0,1) + X(1,1) * Y(1,1)\\end{bmatrix}$$"
      ],
      "metadata": {
        "id": "9eoQcUN3fZlM"
      }
    },
    {
      "cell_type": "code",
      "source": [
        ""
      ],
      "metadata": {
        "id": "N5pp-zQwTtT4"
      },
      "execution_count": null,
      "outputs": []
    },
    {
      "cell_type": "markdown",
      "source": [
        "So if we assign values to $X$ and $Y$:"
      ],
      "metadata": {
        "id": "7e0LZZl7hHXw"
      }
    },
    {
      "cell_type": "markdown",
      "source": [
        "$$X = \\begin{bmatrix} -10 & -8 & -6 & -4 & -2 & 2 & 4 & 6 & 8 & 10 \\\\ -12 & -9 & -6 & -3 & 0 & 3 & 6 & 9 & 12\\end{bmatrix}$$, \n",
        "$$Y = \\begin{bmatrix} 1 & 3 & 5 & 7 & 9 \\\\ 2 & 4 & 6 & 8 & 10\\end{bmatrix}$$"
      ],
      "metadata": {
        "id": "S-82eZbahSmM"
      }
    },
    {
      "cell_type": "markdown",
      "source": [
        "$$X.Y = \\begin{bmatrix} 1 * -1 + 2 * 2 &  1 * 0 + 2 * 2\\\\ 0 * -1 + 1 * 2 & 0 * 0 + 1 * 2\\end{bmatrix}$$ $$ \\begin{bmatrix} 3 & 4 \\\\2 & 2\\end{bmatrix}$$"
      ],
      "metadata": {
        "id": "y6dygEkXh2cp"
      }
    },
    {
      "cell_type": "markdown",
      "source": [
        "This could be achieved programmatically using np.dot(), np.matmul() or the @ operator."
      ],
      "metadata": {
        "id": "bLYKtKyvh2p1"
      }
    },
    {
      "cell_type": "code",
      "source": [
        "X = np.array([\n",
        "    [-10,8],\n",
        "    [-12,9]\n",
        "])\n",
        "Y = np.array([\n",
        "    [1,3],\n",
        "    [2,4]\n",
        "])"
      ],
      "metadata": {
        "id": "0k14GPXGA3F2"
      },
      "execution_count": 13,
      "outputs": []
    },
    {
      "cell_type": "code",
      "source": [
        "np.array_equiv(X,Y)"
      ],
      "metadata": {
        "colab": {
          "base_uri": "https://localhost:8080/"
        },
        "id": "TKRusDUZBJue",
        "outputId": "b210d433-5ad1-44c2-ddd7-98ae4f54c32e"
      },
      "execution_count": 14,
      "outputs": [
        {
          "output_type": "execute_result",
          "data": {
            "text/plain": [
              "False"
            ]
          },
          "metadata": {},
          "execution_count": 14
        }
      ]
    },
    {
      "cell_type": "code",
      "source": [
        "np.dot(X,Y)"
      ],
      "metadata": {
        "colab": {
          "base_uri": "https://localhost:8080/"
        },
        "id": "s7kIGuP8lf8i",
        "outputId": "345c6f97-fd8c-4727-9065-43cb5fe5f4ed"
      },
      "execution_count": 15,
      "outputs": [
        {
          "output_type": "execute_result",
          "data": {
            "text/plain": [
              "array([[6, 2],\n",
              "       [6, 0]])"
            ]
          },
          "metadata": {},
          "execution_count": 15
        }
      ]
    },
    {
      "cell_type": "code",
      "source": [
        "X.dot(Y)"
      ],
      "metadata": {
        "colab": {
          "base_uri": "https://localhost:8080/"
        },
        "id": "zyWLBcnlBiJn",
        "outputId": "28a77e32-6cd8-4701-9aea-d1723f0478a3"
      },
      "execution_count": 16,
      "outputs": [
        {
          "output_type": "execute_result",
          "data": {
            "text/plain": [
              "array([[6, 2],\n",
              "       [6, 0]])"
            ]
          },
          "metadata": {},
          "execution_count": 16
        }
      ]
    },
    {
      "cell_type": "code",
      "source": [
        "X @ Y"
      ],
      "metadata": {
        "colab": {
          "base_uri": "https://localhost:8080/"
        },
        "id": "F1B1hrfdBnS7",
        "outputId": "f530ccd8-8595-4d62-900e-1ab34a4e949c"
      },
      "execution_count": 17,
      "outputs": [
        {
          "output_type": "execute_result",
          "data": {
            "text/plain": [
              "array([[6, 2],\n",
              "       [6, 0]])"
            ]
          },
          "metadata": {},
          "execution_count": 17
        }
      ]
    },
    {
      "cell_type": "code",
      "source": [
        "np.matmul(X,Y)"
      ],
      "metadata": {
        "colab": {
          "base_uri": "https://localhost:8080/"
        },
        "id": "E21LOQitBrYf",
        "outputId": "9ec4d40d-1114-4c9b-ae68-01d6ef7b2f0c"
      },
      "execution_count": 18,
      "outputs": [
        {
          "output_type": "execute_result",
          "data": {
            "text/plain": [
              "array([[6, 2],\n",
              "       [6, 0]])"
            ]
          },
          "metadata": {},
          "execution_count": 18
        }
      ]
    },
    {
      "cell_type": "code",
      "source": [
        "D = np.array([\n",
        "    [-2,0,3],\n",
        "    [-3,1,4],\n",
        "    [-4,2,4]\n",
        "])\n",
        "E = np.array ([\n",
        "    [-4,2,4],\n",
        "    [4,6,8],\n",
        "    [9,6,4]\n",
        "])"
      ],
      "metadata": {
        "id": "hKq_rU20Bu-u"
      },
      "execution_count": 19,
      "outputs": []
    },
    {
      "cell_type": "code",
      "source": [
        "np.array_equiv(D,E)"
      ],
      "metadata": {
        "colab": {
          "base_uri": "https://localhost:8080/"
        },
        "id": "WX75-_-mK_Vp",
        "outputId": "de95918f-b6a0-4968-9533-87d374d2abfe"
      },
      "execution_count": 20,
      "outputs": [
        {
          "output_type": "execute_result",
          "data": {
            "text/plain": [
              "False"
            ]
          },
          "metadata": {},
          "execution_count": 20
        }
      ]
    },
    {
      "cell_type": "code",
      "source": [
        "np.dot(D,E)"
      ],
      "metadata": {
        "colab": {
          "base_uri": "https://localhost:8080/"
        },
        "id": "G_xshm_hgWk-",
        "outputId": "36fbc417-9f1e-4500-d6e2-11b66057cae4"
      },
      "execution_count": 21,
      "outputs": [
        {
          "output_type": "execute_result",
          "data": {
            "text/plain": [
              "array([[35, 14,  4],\n",
              "       [52, 24, 12],\n",
              "       [60, 28, 16]])"
            ]
          },
          "metadata": {},
          "execution_count": 21
        }
      ]
    },
    {
      "cell_type": "code",
      "source": [
        "D.dot(E)"
      ],
      "metadata": {
        "colab": {
          "base_uri": "https://localhost:8080/"
        },
        "id": "Um3hZuGKhW4E",
        "outputId": "c59e95b9-c448-4591-cc06-9349f6673c1a"
      },
      "execution_count": 22,
      "outputs": [
        {
          "output_type": "execute_result",
          "data": {
            "text/plain": [
              "array([[35, 14,  4],\n",
              "       [52, 24, 12],\n",
              "       [60, 28, 16]])"
            ]
          },
          "metadata": {},
          "execution_count": 22
        }
      ]
    },
    {
      "cell_type": "code",
      "source": [
        "D @ E"
      ],
      "metadata": {
        "colab": {
          "base_uri": "https://localhost:8080/"
        },
        "id": "7fdWtgirhhTZ",
        "outputId": "c38f3552-cb48-4724-965a-cd04eca2816f"
      },
      "execution_count": 23,
      "outputs": [
        {
          "output_type": "execute_result",
          "data": {
            "text/plain": [
              "array([[35, 14,  4],\n",
              "       [52, 24, 12],\n",
              "       [60, 28, 16]])"
            ]
          },
          "metadata": {},
          "execution_count": 23
        }
      ]
    },
    {
      "cell_type": "code",
      "source": [
        "np.matmul(D,E)"
      ],
      "metadata": {
        "colab": {
          "base_uri": "https://localhost:8080/"
        },
        "id": "OismLQXFh1ko",
        "outputId": "7ca1d7c8-66e4-458c-99c0-e2fdbd9750c6"
      },
      "execution_count": 24,
      "outputs": [
        {
          "output_type": "execute_result",
          "data": {
            "text/plain": [
              "array([[35, 14,  4],\n",
              "       [52, 24, 12],\n",
              "       [60, 28, 16]])"
            ]
          },
          "metadata": {},
          "execution_count": 24
        }
      ]
    },
    {
      "cell_type": "markdown",
      "source": [
        "In matix dot products there are additional rules compared with vector dot producs."
      ],
      "metadata": {
        "id": "XGd3nurRDJeh"
      }
    },
    {
      "cell_type": "markdown",
      "source": [
        "##Rule 1: The inner dimensions of the matrices in question must be the same."
      ],
      "metadata": {
        "id": "hLcEIN16j-UW"
      }
    },
    {
      "cell_type": "markdown",
      "source": [
        "Given a matrix $A$ with a shape of $(a,b)$ where $a$ and $b$ are any integers. If we want to do a dot product between $A$ and another matrix $B$, then matrix $B$ should have a shape of $(b,c)$ are any integers. So for given the following matrices:"
      ],
      "metadata": {
        "id": "ZlNaWTP4koFH"
      }
    },
    {
      "cell_type": "code",
      "source": [
        ""
      ],
      "metadata": {
        "id": "Nljqe8dxDJzI"
      },
      "execution_count": null,
      "outputs": []
    },
    {
      "cell_type": "markdown",
      "source": [
        "$$A = \\begin{bmatrix} 4 & 2\\\\5 & -1\\\\ 0 & -5\\end{bmatrix}$$, $$B = \\begin{bmatrix} 5 & 8\\\\7 & -2\\\\ 1 & -4\\end{bmatrix}$$, $$C = \\begin{bmatrix} 7 & 4 & 8\\\\5 & -4 & 2\\end{bmatrix}$$"
      ],
      "metadata": {
        "id": "iRCxjrQmDdlm"
      }
    },
    {
      "cell_type": "markdown",
      "source": [
        "So in this case $A$ has a shape of $(3,2), B$ has a shape of $(2,3)$. So the only matrix pairs that is eligible to perform dot product is matrices $A*C, or B*C.$"
      ],
      "metadata": {
        "id": "7q-yEsbWl3bq"
      }
    },
    {
      "cell_type": "code",
      "source": [
        "A = np.array([\n",
        "    [4,2],\n",
        "    [5,-1],\n",
        "    [0,-5]\n",
        "])\n",
        "B = np.array([\n",
        "    [5,8],\n",
        "    [7,-2],\n",
        "    [1,-4]\n",
        "])\n",
        "C = np.array([\n",
        "    [7,4,8],\n",
        "    [5,-4,2]\n",
        "]) \n",
        "print(A.shape),\n",
        "print(B.shape),\n",
        "print(C.shape)"
      ],
      "metadata": {
        "colab": {
          "base_uri": "https://localhost:8080/"
        },
        "id": "cM-VR6ZNEJSn",
        "outputId": "38d4fe9d-d893-4ef2-e8cc-628e4f997f9e"
      },
      "execution_count": 25,
      "outputs": [
        {
          "output_type": "stream",
          "name": "stdout",
          "text": [
            "(3, 2)\n",
            "(3, 2)\n",
            "(2, 3)\n"
          ]
        }
      ]
    },
    {
      "cell_type": "code",
      "source": [
        "A @ C"
      ],
      "metadata": {
        "colab": {
          "base_uri": "https://localhost:8080/"
        },
        "id": "5uOg1kYrFA_B",
        "outputId": "a0aaf2ac-49d1-471a-e7a1-eeb261b71ec7"
      },
      "execution_count": 26,
      "outputs": [
        {
          "output_type": "execute_result",
          "data": {
            "text/plain": [
              "array([[ 38,   8,  36],\n",
              "       [ 30,  24,  38],\n",
              "       [-25,  20, -10]])"
            ]
          },
          "metadata": {},
          "execution_count": 26
        }
      ]
    },
    {
      "cell_type": "code",
      "source": [
        "B @ C"
      ],
      "metadata": {
        "colab": {
          "base_uri": "https://localhost:8080/"
        },
        "id": "yaw0wWVWFRKb",
        "outputId": "69c9d29c-81be-4279-af6a-2eee9fea93c6"
      },
      "execution_count": 27,
      "outputs": [
        {
          "output_type": "execute_result",
          "data": {
            "text/plain": [
              "array([[ 75, -12,  56],\n",
              "       [ 39,  36,  52],\n",
              "       [-13,  20,   0]])"
            ]
          },
          "metadata": {},
          "execution_count": 27
        }
      ]
    },
    {
      "cell_type": "markdown",
      "source": [
        "If you would notice the shape of thedot product changed and its shape is not the same as any of the matrices we used. The shape of a dot product is actually derived from the shape of the matrices used. So recall $A$ with a shape of $(a,b)$ and matrix $B$ with a shape of $(b,c), A*B$ should have a shape $(a,c)$."
      ],
      "metadata": {
        "id": "oaNOQo0enV5o"
      }
    },
    {
      "cell_type": "code",
      "source": [
        "A @ B.T"
      ],
      "metadata": {
        "colab": {
          "base_uri": "https://localhost:8080/"
        },
        "id": "SKCDJ4ehpY7w",
        "outputId": "a2ef0400-96fd-4043-abc8-a9d53fb52161"
      },
      "execution_count": 28,
      "outputs": [
        {
          "output_type": "execute_result",
          "data": {
            "text/plain": [
              "array([[ 36,  24,  -4],\n",
              "       [ 17,  37,   9],\n",
              "       [-40,  10,  20]])"
            ]
          },
          "metadata": {},
          "execution_count": 28
        }
      ]
    },
    {
      "cell_type": "code",
      "source": [
        "X = np.array([\n",
        "    [3,4,5,6]\n",
        "])\n",
        "Y = np. array([\n",
        "    [2,0,4,-2]\n",
        "])\n",
        "print(X.shape)\n",
        "print(Y.shape)"
      ],
      "metadata": {
        "colab": {
          "base_uri": "https://localhost:8080/"
        },
        "id": "dvfHl9lgpjAs",
        "outputId": "62a5ebe4-3ea8-4abe-a5af-e95f83dd07a4"
      },
      "execution_count": 29,
      "outputs": [
        {
          "output_type": "stream",
          "name": "stdout",
          "text": [
            "(1, 4)\n",
            "(1, 4)\n"
          ]
        }
      ]
    },
    {
      "cell_type": "code",
      "source": [
        "Y.T @ X"
      ],
      "metadata": {
        "colab": {
          "base_uri": "https://localhost:8080/"
        },
        "id": "B_WOeU_yqW0Z",
        "outputId": "ac3583c1-32b6-4175-a193-8b274939f109"
      },
      "execution_count": 30,
      "outputs": [
        {
          "output_type": "execute_result",
          "data": {
            "text/plain": [
              "array([[  6,   8,  10,  12],\n",
              "       [  0,   0,   0,   0],\n",
              "       [ 12,  16,  20,  24],\n",
              "       [ -6,  -8, -10, -12]])"
            ]
          },
          "metadata": {},
          "execution_count": 30
        }
      ]
    },
    {
      "cell_type": "code",
      "source": [
        "X @ Y.T"
      ],
      "metadata": {
        "colab": {
          "base_uri": "https://localhost:8080/"
        },
        "id": "DxIqoioZqmeq",
        "outputId": "0f054d89-652d-4f31-c2cb-632a0ef93419"
      },
      "execution_count": 31,
      "outputs": [
        {
          "output_type": "execute_result",
          "data": {
            "text/plain": [
              "array([[14]])"
            ]
          },
          "metadata": {},
          "execution_count": 31
        }
      ]
    },
    {
      "cell_type": "markdown",
      "source": [
        "You can see that when you try to multiply A and B, it returns ValueError pertaining to matrix shape mismatch."
      ],
      "metadata": {
        "id": "0KIh_aFRq2wi"
      }
    },
    {
      "cell_type": "markdown",
      "source": [
        "##Rule 2: Dot Product has special properties"
      ],
      "metadata": {
        "id": "Pm6V6XoFrwiv"
      }
    },
    {
      "cell_type": "markdown",
      "source": [
        "Dot product are prevalent in matrix algebra, this implies that it has severa; unique properties and it should be considered when formulation solutions:"
      ],
      "metadata": {
        "id": "P08Fzz1pr3Wf"
      }
    },
    {
      "cell_type": "markdown",
      "source": [
        "1. $A \\cdot B \\neq B \\cdot A$\n",
        " 2. $A \\cdot (B \\cdot C) = (A \\cdot B) \\cdot C$\n",
        " 3. $A\\cdot(B+C) = A\\cdot B + A\\cdot C$\n",
        " 4. $(B+C)\\cdot A = B\\cdot A + C\\cdot A$\n",
        " 5. $A\\cdot I = A$\n",
        " 6. $A\\cdot \\emptyset = \\emptyset$\n"
      ],
      "metadata": {
        "id": "Bz4KksrSHWi9"
      }
    },
    {
      "cell_type": "markdown",
      "source": [
        "I'll be doing just one  of the properties and I'll  leave the rest to test your skills!"
      ],
      "metadata": {
        "id": "haRvyYl-sYbt"
      }
    },
    {
      "cell_type": "code",
      "source": [
        "A = np.array([\n",
        "    [3,2,1],\n",
        "    [4,5,1],\n",
        "    [1,1,1]\n",
        "])\n",
        "B = np.array([\n",
        "    [4,1,6],\n",
        "    [4,1,9],\n",
        "    [1,1,1]\n",
        "])\n",
        "C = np.array([\n",
        "    [1,1,0],\n",
        "    [0,1,1],\n",
        "    [1,0,1]\n",
        "])"
      ],
      "metadata": {
        "id": "eiSxOAX2HYQK"
      },
      "execution_count": 32,
      "outputs": []
    },
    {
      "cell_type": "code",
      "source": [
        "np.eye(3)"
      ],
      "metadata": {
        "id": "-cNYZ1Y9OELl",
        "colab": {
          "base_uri": "https://localhost:8080/"
        },
        "outputId": "b07fd408-d5e9-4d5e-b1c0-92a6a8641868"
      },
      "execution_count": 33,
      "outputs": [
        {
          "output_type": "execute_result",
          "data": {
            "text/plain": [
              "array([[1., 0., 0.],\n",
              "       [0., 1., 0.],\n",
              "       [0., 0., 1.]])"
            ]
          },
          "metadata": {},
          "execution_count": 33
        }
      ]
    },
    {
      "cell_type": "code",
      "source": [
        "A.dot(np.eye(3))"
      ],
      "metadata": {
        "colab": {
          "base_uri": "https://localhost:8080/"
        },
        "id": "MMt_4t01s4ee",
        "outputId": "c05cbd2e-a5f1-4e26-ce2b-e611b64212b0"
      },
      "execution_count": 34,
      "outputs": [
        {
          "output_type": "execute_result",
          "data": {
            "text/plain": [
              "array([[3., 2., 1.],\n",
              "       [4., 5., 1.],\n",
              "       [1., 1., 1.]])"
            ]
          },
          "metadata": {},
          "execution_count": 34
        }
      ]
    },
    {
      "cell_type": "code",
      "source": [
        "np.array_equal(A@B, B@A)"
      ],
      "metadata": {
        "colab": {
          "base_uri": "https://localhost:8080/"
        },
        "id": "JmHfB0iOs-2p",
        "outputId": "a15f6b0f-1fbc-4d11-a655-f14ee3793b09"
      },
      "execution_count": 35,
      "outputs": [
        {
          "output_type": "execute_result",
          "data": {
            "text/plain": [
              "False"
            ]
          },
          "metadata": {},
          "execution_count": 35
        }
      ]
    },
    {
      "cell_type": "code",
      "source": [
        "E = A @ (B @ C)\n",
        "E"
      ],
      "metadata": {
        "colab": {
          "base_uri": "https://localhost:8080/"
        },
        "id": "JBCXrBhEtEqV",
        "outputId": "bcb96a24-8caa-445f-99c3-a1b8cdfa25ca"
      },
      "execution_count": 36,
      "outputs": [
        {
          "output_type": "execute_result",
          "data": {
            "text/plain": [
              "array([[ 58,  27,  43],\n",
              "       [107,  47,  80],\n",
              "       [ 25,  12,  19]])"
            ]
          },
          "metadata": {},
          "execution_count": 36
        }
      ]
    },
    {
      "cell_type": "code",
      "source": [
        "F = (A @ B) @ C\n",
        "F"
      ],
      "metadata": {
        "colab": {
          "base_uri": "https://localhost:8080/"
        },
        "id": "ix67bWqZtYZ8",
        "outputId": "2147d0a2-e469-4f07-cf45-5d8bbe48368c"
      },
      "execution_count": 37,
      "outputs": [
        {
          "output_type": "execute_result",
          "data": {
            "text/plain": [
              "array([[ 58,  27,  43],\n",
              "       [107,  47,  80],\n",
              "       [ 25,  12,  19]])"
            ]
          },
          "metadata": {},
          "execution_count": 37
        }
      ]
    },
    {
      "cell_type": "code",
      "source": [
        "np.array_equal(E,X)"
      ],
      "metadata": {
        "colab": {
          "base_uri": "https://localhost:8080/"
        },
        "id": "uvL5sdx5teVb",
        "outputId": "3a185be0-ff9e-497a-f674-1057761925df"
      },
      "execution_count": 38,
      "outputs": [
        {
          "output_type": "execute_result",
          "data": {
            "text/plain": [
              "False"
            ]
          },
          "metadata": {},
          "execution_count": 38
        }
      ]
    },
    {
      "cell_type": "code",
      "source": [
        "np.array_equiv(E,F)"
      ],
      "metadata": {
        "colab": {
          "base_uri": "https://localhost:8080/"
        },
        "id": "z_yIyqL9tngU",
        "outputId": "fe4c36eb-6da7-492c-fe99-7fcc23e5b0cd"
      },
      "execution_count": 39,
      "outputs": [
        {
          "output_type": "execute_result",
          "data": {
            "text/plain": [
              "True"
            ]
          },
          "metadata": {},
          "execution_count": 39
        }
      ]
    },
    {
      "cell_type": "code",
      "source": [
        "np.eye(3)"
      ],
      "metadata": {
        "colab": {
          "base_uri": "https://localhost:8080/"
        },
        "id": "qMdPwDhEtyaT",
        "outputId": "537c5ef5-e60d-4ee1-dc53-2838e90c258e"
      },
      "execution_count": 40,
      "outputs": [
        {
          "output_type": "execute_result",
          "data": {
            "text/plain": [
              "array([[1., 0., 0.],\n",
              "       [0., 1., 0.],\n",
              "       [0., 0., 1.]])"
            ]
          },
          "metadata": {},
          "execution_count": 40
        }
      ]
    },
    {
      "cell_type": "code",
      "source": [
        "A @ E"
      ],
      "metadata": {
        "colab": {
          "base_uri": "https://localhost:8080/"
        },
        "id": "AGpOoCdDuLjT",
        "outputId": "8700170c-cece-4622-922f-d21a705ff6f1"
      },
      "execution_count": 41,
      "outputs": [
        {
          "output_type": "execute_result",
          "data": {
            "text/plain": [
              "array([[413, 187, 308],\n",
              "       [792, 355, 591],\n",
              "       [190,  86, 142]])"
            ]
          },
          "metadata": {},
          "execution_count": 41
        }
      ]
    },
    {
      "cell_type": "code",
      "source": [
        "z_mat = np.zeros(A.shape)\n",
        "z_mat"
      ],
      "metadata": {
        "colab": {
          "base_uri": "https://localhost:8080/"
        },
        "id": "GM_dBKJfuNIL",
        "outputId": "581e1047-dc22-48de-a66e-e108283b02ab"
      },
      "execution_count": 42,
      "outputs": [
        {
          "output_type": "execute_result",
          "data": {
            "text/plain": [
              "array([[0., 0., 0.],\n",
              "       [0., 0., 0.],\n",
              "       [0., 0., 0.]])"
            ]
          },
          "metadata": {},
          "execution_count": 42
        }
      ]
    },
    {
      "cell_type": "code",
      "source": [
        "a_dot_z = A.dot(np.zeros(A.shape))\n",
        "a_dot_z"
      ],
      "metadata": {
        "colab": {
          "base_uri": "https://localhost:8080/"
        },
        "id": "YRhozkd5ufs9",
        "outputId": "a5539ee4-1706-4177-e278-65498b395bbb"
      },
      "execution_count": 43,
      "outputs": [
        {
          "output_type": "execute_result",
          "data": {
            "text/plain": [
              "array([[0., 0., 0.],\n",
              "       [0., 0., 0.],\n",
              "       [0., 0., 0.]])"
            ]
          },
          "metadata": {},
          "execution_count": 43
        }
      ]
    },
    {
      "cell_type": "code",
      "source": [
        "np.array_equal(a_dot_z,z_mat)"
      ],
      "metadata": {
        "colab": {
          "base_uri": "https://localhost:8080/"
        },
        "id": "PFTQpKkBuuo2",
        "outputId": "692b57b5-2e81-4f1d-cb01-2a36750f8e15"
      },
      "execution_count": 44,
      "outputs": [
        {
          "output_type": "execute_result",
          "data": {
            "text/plain": [
              "True"
            ]
          },
          "metadata": {},
          "execution_count": 44
        }
      ]
    },
    {
      "cell_type": "code",
      "source": [
        "null_mat = np.empty(A.shape, dtype=float)\n",
        "null = np.array(null_mat,dtype=float)\n",
        "print(null)\n",
        "np.allclose(a_dot_z,null)"
      ],
      "metadata": {
        "colab": {
          "base_uri": "https://localhost:8080/"
        },
        "id": "HdtpZfyhvHaM",
        "outputId": "52316be6-6908-4b2a-9ec5-d232c1a368eb"
      },
      "execution_count": 45,
      "outputs": [
        {
          "output_type": "stream",
          "name": "stdout",
          "text": [
            "[[0. 0. 0.]\n",
            " [0. 0. 0.]\n",
            " [0. 0. 0.]]\n"
          ]
        },
        {
          "output_type": "execute_result",
          "data": {
            "text/plain": [
              "True"
            ]
          },
          "metadata": {},
          "execution_count": 45
        }
      ]
    },
    {
      "cell_type": "markdown",
      "source": [
        "##Derterminant"
      ],
      "metadata": {
        "id": "Ig8s5lTWvZ8a"
      }
    },
    {
      "cell_type": "markdown",
      "source": [
        "A determinant is a scalar value derived from a square matrix. The determinant is a fundamental and important value used in matrix algebra. Although it will not be evident in this laboratory on how it can be used practically, but it will be reatly used in future lessons."
      ],
      "metadata": {
        "id": "6lDCEwtMvcpR"
      }
    },
    {
      "cell_type": "markdown",
      "source": [
        "The determinant of some matrix $A$ is denoted as $det(A)$ or |$A$|. So let say $A$ is represented as:\n",
        "$$A = \\begin{bmatrix}a_{(0,0)}&a_{(0,1)}\\\\a_{(1,0)}&a_{(1,1)}\\end{bmatrix}$$\n",
        "We can compute for the determinant as:\n",
        "$$|A| = a_{(0,0)}*a_{(1,1)} - a_{(1,0)}*a_{(0,1)}$$\n",
        "So if we have $A$ as:\n",
        "$$A = \\begin{bmatrix}1&4\\\\0&3\\end{bmatrix}, |A| = 3$$\n",
        "\n",
        "But you might wonder how about square matrices beyond the shape $(2,2)$? We can approach this problem by using several methods such as co-factor expansion and the minors method. This can be taught in the lecture of the laboratory but we can achieve the strenuous computation of high-dimensional matrices programmatically using Python. We can achieve this by using `np.linalg.det()`."
      ],
      "metadata": {
        "id": "febiWd4jxbS8"
      }
    },
    {
      "cell_type": "code",
      "source": [
        "A = np.array([\n",
        "    [3,6],\n",
        "    [2,5]\n",
        "])\n",
        "np.linalg.det(A)"
      ],
      "metadata": {
        "colab": {
          "base_uri": "https://localhost:8080/"
        },
        "id": "oyYTnWY0ylVB",
        "outputId": "993e1d53-f786-443c-a11a-888fd60dba63"
      },
      "execution_count": 46,
      "outputs": [
        {
          "output_type": "execute_result",
          "data": {
            "text/plain": [
              "3.0000000000000004"
            ]
          },
          "metadata": {},
          "execution_count": 46
        }
      ]
    },
    {
      "cell_type": "code",
      "source": [
        "B = np.array([\n",
        "              [3, 7, 4],\n",
        "              [1, -3 ,-3],\n",
        "              [0, -4, 3]\n",
        "])\n",
        "np.linalg.det(B)"
      ],
      "metadata": {
        "colab": {
          "base_uri": "https://localhost:8080/"
        },
        "id": "d9apv9Rmyr0F",
        "outputId": "ddec6da4-bd61-420c-da2e-0d16a00db30c"
      },
      "execution_count": 47,
      "outputs": [
        {
          "output_type": "execute_result",
          "data": {
            "text/plain": [
              "-100.00000000000004"
            ]
          },
          "metadata": {},
          "execution_count": 47
        }
      ]
    },
    {
      "cell_type": "code",
      "source": [
        "## Now other mathematics classes would require you to solve this by hand, \n",
        "## and that is great for practicing your memorization and coordination skills \n",
        "## but in this class we aim for simplicity and speed so we'll use programming\n",
        "## but it's completely fine if you want to try to solve this one by hand.\n",
        "B = np.array([\n",
        "    [3,5,7,8],\n",
        "    [0,4,2,4],\n",
        "    [5,3,6,1],\n",
        "    [3,1,4,7]\n",
        "])\n",
        "np.linalg.det(B)"
      ],
      "metadata": {
        "colab": {
          "base_uri": "https://localhost:8080/"
        },
        "id": "NklXgK2qy_7b",
        "outputId": "c488e57d-5e22-46b0-8072-e8bd42ad23fa"
      },
      "execution_count": 48,
      "outputs": [
        {
          "output_type": "execute_result",
          "data": {
            "text/plain": [
              "-192.0"
            ]
          },
          "metadata": {},
          "execution_count": 48
        }
      ]
    },
    {
      "cell_type": "markdown",
      "source": [
        "##Inverse"
      ],
      "metadata": {
        "id": "LO_Eb-SpzR_-"
      }
    },
    {
      "cell_type": "markdown",
      "source": [
        "The inverse of a matrix is another fundamental operation in matrix algebra. Determining the inverse of a matrix let us determine if its solvability and its characteristic as a system of linear equation — we'll expand on this in the nect module. Another use of the inverse matrix is solving the problem of divisibility between matrices. Although element-wise division exists but dividing the entire concept of matrices does not exists. Inverse matrices provides a related operation that could have the same concept of \"dividing\" matrices.\n",
        "\n",
        "Now to determine the inverse of a matrix we need to perform several steps. So let's say we have a matrix $M$:\n",
        "$$M = \\begin{bmatrix}1&7\\\\-3&5\\end{bmatrix}$$\n",
        "First, we need to get the determinant of $M$.\n",
        "$$|M| = (1)(5)-(-3)(7) = 26$$\n",
        "Next, we need to reform the matrix into the inverse form:\n",
        "$$M^{-1} = \\frac{1}{|M|} \\begin{bmatrix} m_{(1,1)} & -m_{(0,1)} \\\\ -m_{(1,0)} & m_{(0,0)}\\end{bmatrix}$$\n",
        "So that will be:\n",
        "$$M^{-1} = \\frac{1}{26} \\begin{bmatrix} 5 & -7 \\\\ 3 & 1\\end{bmatrix} = \\begin{bmatrix} \\frac{5}{26} & \\frac{-7}{26} \\\\ \\frac{3}{26} & \\frac{1}{26}\\end{bmatrix}$$\n",
        "For higher-dimension matrices you might need to use co-factors, minors, adjugates, and other reduction techinques. To solve this programmatially we can use `np.linalg.inv()`."
      ],
      "metadata": {
        "id": "dAqgEiJHzUMR"
      }
    },
    {
      "cell_type": "code",
      "source": [
        "M = np.array([\n",
        "    [3,9],\n",
        "    [-5, 3]\n",
        "])\n",
        "\n",
        "np.array(M @ np.linalg.inv(M), dtype=int)"
      ],
      "metadata": {
        "colab": {
          "base_uri": "https://localhost:8080/"
        },
        "id": "irOv2Jjrzath",
        "outputId": "3bc1ecd6-1008-4c65-8798-863feecfadda"
      },
      "execution_count": 49,
      "outputs": [
        {
          "output_type": "execute_result",
          "data": {
            "text/plain": [
              "array([[1, 0],\n",
              "       [0, 0]])"
            ]
          },
          "metadata": {},
          "execution_count": 49
        }
      ]
    },
    {
      "cell_type": "code",
      "source": [
        "P = np.array([\n",
        "              [4, 7, -2],\n",
        "              [6, 4, -3],\n",
        "              [1, 4, 8]\n",
        "])\n",
        "Q = np.linalg.inv(P)\n",
        "Q"
      ],
      "metadata": {
        "colab": {
          "base_uri": "https://localhost:8080/"
        },
        "id": "oIxF4KquzkAp",
        "outputId": "41a6f3c2-12e4-4bcf-a866-e63cfb8463b6"
      },
      "execution_count": 50,
      "outputs": [
        {
          "output_type": "execute_result",
          "data": {
            "text/plain": [
              "array([[-0.19909502,  0.28959276,  0.05882353],\n",
              "       [ 0.23076923, -0.15384615,  0.        ],\n",
              "       [-0.09049774,  0.04072398,  0.11764706]])"
            ]
          },
          "metadata": {},
          "execution_count": 50
        }
      ]
    },
    {
      "cell_type": "code",
      "source": [
        "P @ Q"
      ],
      "metadata": {
        "colab": {
          "base_uri": "https://localhost:8080/"
        },
        "id": "AsoBkvJxzuhI",
        "outputId": "582f2fee-7d93-4fa6-aabb-4eac6d1d517d"
      },
      "execution_count": 51,
      "outputs": [
        {
          "output_type": "execute_result",
          "data": {
            "text/plain": [
              "array([[ 1.00000000e+00,  2.22044605e-16, -2.77555756e-17],\n",
              "       [ 2.77555756e-17,  1.00000000e+00, -2.77555756e-17],\n",
              "       [ 0.00000000e+00,  1.11022302e-16,  1.00000000e+00]])"
            ]
          },
          "metadata": {},
          "execution_count": 51
        }
      ]
    },
    {
      "cell_type": "code",
      "source": [
        "## And now let's test your skills in solving a matrix with high dimensions:\n",
        "N = np.array([\n",
        "    [14,8,27,4,0,35,15],\n",
        "    [2,44,10,1,12,14,22],\n",
        "    [15,19,2,10,8,0,5],\n",
        "    [11,16,5,2,5,4,14],\n",
        "    [18,-3,4,9,0,7,11],\n",
        "    [-5,10,-2,0,-4,6,-13],\n",
        "    [-2,-3,10,12,15,22,-12],\n",
        "])\n",
        "N_inv = np.linalg.inv(N)\n",
        "np.array(N @ N_inv,dtype=int)"
      ],
      "metadata": {
        "colab": {
          "base_uri": "https://localhost:8080/"
        },
        "id": "dMEtPtNjzvdJ",
        "outputId": "e8583068-dfef-4564-f385-410ddcf2cab4"
      },
      "execution_count": 52,
      "outputs": [
        {
          "output_type": "execute_result",
          "data": {
            "text/plain": [
              "array([[0, 0, 0, 0, 0, 0, 0],\n",
              "       [0, 0, 0, 0, 0, 0, 0],\n",
              "       [0, 0, 1, 0, 0, 0, 0],\n",
              "       [0, 0, 0, 0, 0, 0, 0],\n",
              "       [0, 0, 0, 0, 0, 0, 0],\n",
              "       [0, 0, 0, 0, 0, 0, 0],\n",
              "       [0, 0, 0, 0, 0, 0, 0]])"
            ]
          },
          "metadata": {},
          "execution_count": 52
        }
      ]
    },
    {
      "cell_type": "markdown",
      "source": [
        "To validate the wether if the matric that you have solved is really the inverse, we follow this dot product property for a matrix $M$:\n",
        "$$M\\cdot M^{-1} = I$$"
      ],
      "metadata": {
        "id": "p51mzMwa0W9v"
      }
    },
    {
      "cell_type": "code",
      "source": [
        "squad = np.array([\n",
        "    [1.5, 1.5, 1.0],\n",
        "    [2.7, 1.2, 0.4],\n",
        "    [2.3, 0.5, 1.0]\n",
        "])\n",
        "weights = np.array([\n",
        "    [0.2, 0.7, 0.7]\n",
        "])\n",
        "p_grade = squad @ weights.T\n",
        "p_grade\n"
      ],
      "metadata": {
        "colab": {
          "base_uri": "https://localhost:8080/"
        },
        "id": "2BF3XOr90Yfv",
        "outputId": "c6896f63-1e7a-4dfc-8cc1-e012810c4b94"
      },
      "execution_count": 53,
      "outputs": [
        {
          "output_type": "execute_result",
          "data": {
            "text/plain": [
              "array([[2.05],\n",
              "       [1.66],\n",
              "       [1.51]])"
            ]
          },
          "metadata": {},
          "execution_count": 53
        }
      ]
    },
    {
      "cell_type": "markdown",
      "source": [
        "##Activity"
      ],
      "metadata": {
        "id": "MiTVqxgoPIrQ"
      }
    },
    {
      "cell_type": "markdown",
      "source": [
        "## Task 1"
      ],
      "metadata": {
        "id": "Ho6WGrzbORiC"
      }
    },
    {
      "cell_type": "markdown",
      "source": [
        "Prove and implement the remaining 6 matrix multiplication properties. You may create your own matrices in which their shapes should not be lower than (3,3) . In your methodology, create individual flowcharts for each property and discuss the property you would then present your proofs or validity of your implementation in the results section by comparing your result to present functions from NumPy."
      ],
      "metadata": {
        "id": "F4UJIqV7OYmq"
      }
    },
    {
      "cell_type": "code",
      "source": [
        "np.array([])"
      ],
      "metadata": {
        "id": "Tct-AH1ZIZI2",
        "colab": {
          "base_uri": "https://localhost:8080/"
        },
        "outputId": "48ab3d75-5742-42da-987c-afe15ff609a5"
      },
      "execution_count": 54,
      "outputs": [
        {
          "output_type": "execute_result",
          "data": {
            "text/plain": [
              "array([], dtype=float64)"
            ]
          },
          "metadata": {},
          "execution_count": 54
        }
      ]
    },
    {
      "cell_type": "code",
      "source": [
        "import numpy as np "
      ],
      "metadata": {
        "id": "qsfIuWIVO24W"
      },
      "execution_count": 55,
      "outputs": []
    },
    {
      "cell_type": "code",
      "source": [
        "arr = np.array([1,2,3,4,5,6,7,8,9,10,11,12])\n",
        "print(arr)\n",
        "print(type(arr))"
      ],
      "metadata": {
        "colab": {
          "base_uri": "https://localhost:8080/"
        },
        "id": "e2Ujy1U12VHk",
        "outputId": "04ba198a-9c13-4284-9407-900c57a0078b"
      },
      "execution_count": 56,
      "outputs": [
        {
          "output_type": "stream",
          "name": "stdout",
          "text": [
            "[ 1  2  3  4  5  6  7  8  9 10 11 12]\n",
            "<class 'numpy.ndarray'>\n"
          ]
        }
      ]
    },
    {
      "cell_type": "code",
      "source": [
        "print(arr.ndim)"
      ],
      "metadata": {
        "colab": {
          "base_uri": "https://localhost:8080/"
        },
        "id": "b_mz5Ny62saS",
        "outputId": "21f76ce7-7e56-4438-9e1a-d171853a6c14"
      },
      "execution_count": 57,
      "outputs": [
        {
          "output_type": "stream",
          "name": "stdout",
          "text": [
            "1\n"
          ]
        }
      ]
    },
    {
      "cell_type": "code",
      "source": [
        "print(arr[0])"
      ],
      "metadata": {
        "colab": {
          "base_uri": "https://localhost:8080/"
        },
        "id": "n1p_01Fg2yID",
        "outputId": "21a576e8-1dd1-4136-eed9-07e7ab2cbb59"
      },
      "execution_count": 58,
      "outputs": [
        {
          "output_type": "stream",
          "name": "stdout",
          "text": [
            "1\n"
          ]
        }
      ]
    },
    {
      "cell_type": "code",
      "source": [
        "print(arr[1:5])"
      ],
      "metadata": {
        "colab": {
          "base_uri": "https://localhost:8080/"
        },
        "id": "BqTvg3no251L",
        "outputId": "882c1131-fc35-4f2a-c45b-27f344c0cfe0"
      },
      "execution_count": 59,
      "outputs": [
        {
          "output_type": "stream",
          "name": "stdout",
          "text": [
            "[2 3 4 5]\n"
          ]
        }
      ]
    },
    {
      "cell_type": "code",
      "source": [
        "for x in arr:\n",
        "  print(x)"
      ],
      "metadata": {
        "colab": {
          "base_uri": "https://localhost:8080/"
        },
        "id": "Bp_Of8Hn2_y3",
        "outputId": "36a9fd4b-2a66-47a5-fd09-02ad3902f72e"
      },
      "execution_count": 60,
      "outputs": [
        {
          "output_type": "stream",
          "name": "stdout",
          "text": [
            "1\n",
            "2\n",
            "3\n",
            "4\n",
            "5\n",
            "6\n",
            "7\n",
            "8\n",
            "9\n",
            "10\n",
            "11\n",
            "12\n"
          ]
        }
      ]
    },
    {
      "cell_type": "code",
      "source": [
        "x = np.where(arr == 4)\n",
        "print(x)"
      ],
      "metadata": {
        "colab": {
          "base_uri": "https://localhost:8080/"
        },
        "id": "IxkP3MUa3GBx",
        "outputId": "90790983-cb42-4a73-949c-1020cd8021c7"
      },
      "execution_count": 61,
      "outputs": [
        {
          "output_type": "stream",
          "name": "stdout",
          "text": [
            "(array([3]),)\n"
          ]
        }
      ]
    },
    {
      "cell_type": "markdown",
      "source": [
        "## Conclusion"
      ],
      "metadata": {
        "id": "Bg5VTrnmUR02"
      }
    },
    {
      "cell_type": "markdown",
      "source": [
        ""
      ],
      "metadata": {
        "id": "ZqorMHqEUWRH"
      }
    }
  ]
}