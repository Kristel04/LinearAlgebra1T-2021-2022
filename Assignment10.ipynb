{
  "nbformat": 4,
  "nbformat_minor": 0,
  "metadata": {
    "colab": {
      "name": "Assignment10.ipynb",
      "provenance": [],
      "authorship_tag": "ABX9TyPNhUnY1/oY6OsVouaizwWP",
      "include_colab_link": true
    },
    "kernelspec": {
      "name": "python3",
      "display_name": "Python 3"
    },
    "language_info": {
      "name": "python"
    }
  },
  "cells": [
    {
      "cell_type": "markdown",
      "metadata": {
        "id": "view-in-github",
        "colab_type": "text"
      },
      "source": [
        "<a href=\"https://colab.research.google.com/github/Kristel04/LinearAlgebra1T-2021-2022/blob/main/Assignment10.ipynb\" target=\"_parent\"><img src=\"https://colab.research.google.com/assets/colab-badge.svg\" alt=\"Open In Colab\"/></a>"
      ]
    },
    {
      "cell_type": "markdown",
      "source": [
        "# Linear Algebra for CHE\n",
        "## Laboratory 10 : Linear Combination and Vector Spaces"
      ],
      "metadata": {
        "id": "epGcNqzWPHSP"
      }
    },
    {
      "cell_type": "markdown",
      "source": [
        "### Objectives\n",
        "\n",
        "1. Be familiar with representing linear combinations in the 2-dimensional plane.\n",
        "2. Visualize spans using vector fields in Python.\n",
        "3. Perform vector fields operations using scientific programming."
      ],
      "metadata": {
        "id": "hVPl_9cKPOEu"
      }
    },
    {
      "cell_type": "markdown",
      "source": [
        "## Discussion"
      ],
      "metadata": {
        "id": "RMpIOgmzPRyC"
      }
    },
    {
      "cell_type": "code",
      "source": [
        "import numpy as np\n",
        "import matplotlib.pyplot as plt\n",
        "%matplotlib inline"
      ],
      "metadata": {
        "id": "GX6PpaGMPa_V"
      },
      "execution_count": 2,
      "outputs": []
    },
    {
      "cell_type": "markdown",
      "source": [
        "## Linear Combination"
      ],
      "metadata": {
        "id": "5xTXbgW0Pd9u"
      }
    },
    {
      "cell_type": "markdown",
      "source": [
        "Linear combination is the process of adding two algebraic equations so that one of the variables is eliminated.\n",
        "\n",
        "Addition or subtraction can be used to perform a linear combination. Addition is used when the two equations have terms that are exact opposites, and subtraction is used when the two equations have terms that are the same."
      ],
      "metadata": {
        "id": "CTTL6EE0IjgA"
      }
    },
    {
      "cell_type": "markdown",
      "source": [
        "It is said that a linear combination is the combination of linear scaling and addition of a vector its bases/components"
      ],
      "metadata": {
        "id": "Pzg8e3PmP6uw"
      }
    },
    {
      "cell_type": "markdown",
      "source": [
        "We will try to visualize the vectors and their linear combinations by plotting a sample of real number values for the scalars for the vectors. Let's first try the vectors below:"
      ],
      "metadata": {
        "id": "0J2EvsTxP7u0"
      }
    },
    {
      "cell_type": "markdown",
      "source": [
        "$$X = \\begin{bmatrix} 7\\\\2 \\\\\\end{bmatrix} , Y = \\begin{bmatrix} 4\\\\5 \\\\\\end{bmatrix} $$"
      ],
      "metadata": {
        "id": "jL2fI0bLP_0f"
      }
    },
    {
      "cell_type": "code",
      "source": [
        "vectX =  np.array([7,2])\n",
        "vectY =  np.array([4,5])"
      ],
      "metadata": {
        "id": "RsJYDH-fQFgd"
      },
      "execution_count": 3,
      "outputs": []
    },
    {
      "cell_type": "markdown",
      "source": [
        "#### Span of single vectors"
      ],
      "metadata": {
        "id": "BkbHTxj7Qfa-"
      }
    },
    {
      "cell_type": "markdown",
      "source": [
        "As discussed in the lecture, the span of individual vectors can be represented by a line span. Let's take vector $X$ as an example."
      ],
      "metadata": {
        "id": "wQQVF6etQhPm"
      }
    },
    {
      "cell_type": "markdown",
      "source": [
        "$$X = c\\cdot \\begin{bmatrix} 4\\\\7 \\\\\\end{bmatrix} $$"
      ],
      "metadata": {
        "id": "BI0eaxMjQo-_"
      }
    },
    {
      "cell_type": "code",
      "source": [
        "c = np.arange(-15,15,0.125)\n",
        "\n",
        "plt.scatter(c*vectX[0],c*vectX[1])\n",
        "\n",
        "plt.xlim(-15,15)\n",
        "plt.ylim(-15,15)\n",
        "plt.axhline(y=0, color='k')\n",
        "plt.axvline(x=0, color='k')\n",
        "plt.grid()\n",
        "plt.show()"
      ],
      "metadata": {
        "colab": {
          "base_uri": "https://localhost:8080/",
          "height": 269
        },
        "id": "y_4EaHT1QyBs",
        "outputId": "88eec92a-1212-40f3-e1a8-31c4edc56a45"
      },
      "execution_count": 4,
      "outputs": [
        {
          "output_type": "display_data",
          "data": {
            "text/plain": [
              "<Figure size 432x288 with 1 Axes>"
            ],
            "image/png": "[encoded data removed]"
          },
          "metadata": {
            "needs_background": "light"
          }
        }
      ]
    },
    {
      "cell_type": "markdown",
      "source": [
        "$$Y = c\\cdot \\begin{bmatrix}6\\\\8 \\\\\\end{bmatrix} $$"
      ],
      "metadata": {
        "id": "cx_qWerNRCh5"
      }
    },
    {
      "cell_type": "code",
      "source": [
        "c = np.arange(-20,20,0.5)\n",
        "\n",
        "plt.scatter(c*vectY[0],c*vectY[1])\n",
        "\n",
        "plt.xlim(-25,25)\n",
        "plt.ylim(-25,25)\n",
        "plt.axhline(y=0, color='k')\n",
        "plt.axvline(x=0, color='k')\n",
        "plt.grid()\n",
        "plt.show()"
      ],
      "metadata": {
        "colab": {
          "base_uri": "https://localhost:8080/",
          "height": 265
        },
        "id": "P9jGmpW2RNlE",
        "outputId": "5cdfbd7e-b080-4e8f-bd1c-193476091b10"
      },
      "execution_count": 5,
      "outputs": [
        {
          "output_type": "display_data",
          "data": {
            "text/plain": [
              "<Figure size 432x288 with 1 Axes>"
            ],
            "image/png": "[encoded data removed]"
          },
          "metadata": {
            "needs_background": "light"
          }
        }
      ]
    },
    {
      "cell_type": "markdown",
      "source": [
        "So what if we are to plot the span of a linear combination of vectors? We can visualize as a plane on the 2-dimensional coordinate system. Let's take the span of the linear combination below:"
      ],
      "metadata": {
        "id": "SgGDVht_RdSR"
      }
    },
    {
      "cell_type": "markdown",
      "source": [
        "$$S = \\begin{Bmatrix} c_1 \\cdot\\begin{bmatrix} 2\\\\1 \\\\\\end{bmatrix}, \n",
        "c_2 \\cdot \\begin{bmatrix} 2\\\\-2 \\\\\\end{bmatrix}\\end{Bmatrix} $$"
      ],
      "metadata": {
        "id": "R5pKIhD2Reem"
      }
    },
    {
      "cell_type": "code",
      "source": [
        "vectA = np.array([2,1])\n",
        "vectB = np.array([2,-2])\n",
        "\n",
        "R = np.arange(-15,15,10)\n",
        "\n",
        "c1, c2 = np.meshgrid(R,R)\n",
        "\n",
        "vectR = vectA + vectB\n",
        "spanRx = c1*vectA[0] + c2*vectB[0]\n",
        "spanRy = c1*vectA[1] + c2*vectB[1]\n",
        "##plt.scatter(R*vectA[0],R*vectA[1])\n",
        "##plt.scatter(R*vectB[0],R*vectB[1])\n",
        "plt.scatter(spanRx,spanRy, s=5, alpha=0.75)\n",
        "\n",
        "plt.axhline(y=0, color='k')\n",
        "plt.axvline(x=0, color='k')\n",
        "plt.grid()\n",
        "plt.show()"
      ],
      "metadata": {
        "colab": {
          "base_uri": "https://localhost:8080/",
          "height": 265
        },
        "id": "Y7iHV2wwRmLc",
        "outputId": "fa8b315c-7e76-42e6-e0e4-af544136f7f9"
      },
      "execution_count": 6,
      "outputs": [
        {
          "output_type": "display_data",
          "data": {
            "text/plain": [
              "<Figure size 432x288 with 1 Axes>"
            ],
            "image/png": "[encoded data removed]"
          },
          "metadata": {
            "needs_background": "light"
          }
        }
      ]
    },
    {
      "cell_type": "code",
      "source": [
        "vectP = np.array([4,2])\n",
        "vectQ = np.array([1,5])\n",
        "\n",
        "R = np.arange(-5,5,2)\n",
        "\n",
        "c1, c2 = np.meshgrid(R,R)\n",
        "\n",
        "vectR = vectP + vectQ\n",
        "spanRx = c1*vectP[0] + c2*vectQ[0]\n",
        "spanRy = c1*vectP[1] + c2*vectQ[1]\n",
        "##plt.scatter(R*vectA[0],R*vectA[1])\n",
        "##plt.scatter(R*vectB[0],R*vectB[1])\n",
        "plt.scatter(spanRx,spanRy, s=5, alpha=0.75)\n",
        "\n",
        "plt.axhline(y=0, color='k')\n",
        "plt.axvline(x=0, color='k')\n",
        "plt.grid()\n",
        "plt.show()"
      ],
      "metadata": {
        "colab": {
          "base_uri": "https://localhost:8080/",
          "height": 265
        },
        "id": "zjHthqNDR309",
        "outputId": "a6128a93-085d-402c-b3a4-a6acdc578324"
      },
      "execution_count": 7,
      "outputs": [
        {
          "output_type": "display_data",
          "data": {
            "text/plain": [
              "<Figure size 432x288 with 1 Axes>"
            ],
            "image/png": "[encoded data removed]"
          },
          "metadata": {
            "needs_background": "light"
          }
        }
      ]
    },
    {
      "cell_type": "markdown",
      "source": [
        "Take note that if vectors are seen to be as a 2-dimensional span we can say it has a Rank of 2 or $\\mathbb{R}^2$. But if the span of the linear combination of vectors are seen to be like a line, they are said to be <b> linearly dependent </b> and they have a rank of 1 or $\\mathbb{R}^1$."
      ],
      "metadata": {
        "id": "4tSkTJ_tSFuT"
      }
    },
    {
      "cell_type": "markdown",
      "source": [
        "# Activity"
      ],
      "metadata": {
        "id": "ZzCx5MdXSJwl"
      }
    },
    {
      "cell_type": "markdown",
      "source": [
        "### Task 1"
      ],
      "metadata": {
        "id": "cwjrjO65ST2L"
      }
    },
    {
      "cell_type": "markdown",
      "source": [
        "Try different linear combinations using different scalar values. In your methodology discuss the different functions that you have used, the  linear equation and vector form of the linear combination, and the flowchart for declaring and displaying linear combinations. Please make sure that your flowchart has only few words and not putting the entire code as it is bad practice. In your results, display and discuss the linear combination visualization you made. You should use the cells below for displaying the equation markdows using LaTeX and your code."
      ],
      "metadata": {
        "id": "yp59zQOqSXBY"
      }
    },
    {
      "cell_type": "markdown",
      "source": [
        "$$\n",
        "Space \\cdot for \\cdot the \\cdot general \\cdot linear \\cdot equation \\cdot form\n",
        "$$"
      ],
      "metadata": {
        "id": "lCc3n5jPScmg"
      }
    },
    {
      "cell_type": "markdown",
      "source": [
        "$$Space \\cdot for \\cdot the \\cdot vector \\cdot form$$"
      ],
      "metadata": {
        "id": "R33RRrkMSfo8"
      }
    },
    {
      "cell_type": "markdown",
      "source": [
        "$y = ax + b$\n",
        "\n",
        "Vector form:\n",
        "\n",
        "$\\vec{y} = a\\vec{x} + b$\n"
      ],
      "metadata": {
        "id": "1Ol75Vue7qts"
      }
    },
    {
      "cell_type": "markdown",
      "source": [
        "###Step\n",
        "1. Define variables a and b.\n",
        "\n",
        "2. Calculate y = ax + b.\n",
        "\n",
        "3. Display y.\n",
        "\n",
        "4. Repeat steps 1-3 for different values of a and b.\n",
        "\n",
        "5. Discuss results."
      ],
      "metadata": {
        "id": "L9KywlEm8EUv"
      }
    },
    {
      "cell_type": "markdown",
      "source": [
        "Results:\n",
        "\n",
        "For different values of a and b, we get different linear combinations. For example, when a = 15 and b = 27, we get the linear combination y = x + 2."
      ],
      "metadata": {
        "id": "202doM9t8t5F"
      }
    },
    {
      "cell_type": "markdown",
      "source": [
        "As we can see, the graph of the linear combination y = x + 2 is a straight line that passes through the origin. This is because the slope of the line is 15 and the y-intercept is 27.\n",
        "\n",
        "Similarly, when a = -15 and b = 27, we get the linear combination y = -x + 2."
      ],
      "metadata": {
        "id": "FPAeAG66-19A"
      }
    },
    {
      "cell_type": "code",
      "source": [
        "c = np.arange(-15,17,2)\n",
        "\n",
        "plt.scatter(c*vectX[0],c*vectX[1])\n",
        "\n",
        "plt.xlim(-15,27)\n",
        "plt.ylim(-15,27)\n",
        "plt.axhline(y=0, color='k')\n",
        "plt.axvline(x=0, color='k')\n",
        "plt.grid()\n",
        "plt.show()"
      ],
      "metadata": {
        "colab": {
          "base_uri": "https://localhost:8080/",
          "height": 265
        },
        "id": "1AnGF5jS_Iq1",
        "outputId": "eed060ef-297b-4c1b-83c4-634acb9d1afa"
      },
      "execution_count": 17,
      "outputs": [
        {
          "output_type": "display_data",
          "data": {
            "text/plain": [
              "<Figure size 432x288 with 1 Axes>"
            ],
            "image/png": "[encoded data removed]"
          },
          "metadata": {
            "needs_background": "light"
          }
        }
      ]
    },
    {
      "cell_type": "markdown",
      "source": [
        "As we can see, the graph of the linear combination y = -x + 2 is also a straight line that passes through the origin. However, the slope of this line is -15, which is the opposite of the slope of the previous linear combination. This is because a is negative in this case.\n",
        "\n",
        "Finally, when a = 27 and b = 3, we get the linear combination y = 27x + 3."
      ],
      "metadata": {
        "id": "P_pzUjk8-8Zw"
      }
    },
    {
      "cell_type": "code",
      "source": [
        "c = np.arange(-27,27,2)\n",
        "\n",
        "plt.scatter(c*vectY[0],c*vectY[1])\n",
        "\n",
        "plt.xlim(-15,15)\n",
        "plt.ylim(-15,15)\n",
        "plt.axhline(y=0, color='k')\n",
        "plt.axvline(x=0, color='k')\n",
        "plt.grid()\n",
        "plt.show()"
      ],
      "metadata": {
        "colab": {
          "base_uri": "https://localhost:8080/",
          "height": 269
        },
        "id": "L68O9kdeAIea",
        "outputId": "c46555e4-2d0d-4d17-cda2-ee67f6ffc628"
      },
      "execution_count": 18,
      "outputs": [
        {
          "output_type": "display_data",
          "data": {
            "text/plain": [
              "<Figure size 432x288 with 1 Axes>"
            ],
            "image/png": "[encoded data removed]"
          },
          "metadata": {
            "needs_background": "light"
          }
        }
      ]
    },
    {
      "cell_type": "markdown",
      "source": [
        "As we can see, the graph of the linear combination y = 27x + 3 is a straight line that does not pass through the origin. This is because the slope of the line is 27 and the y-intercept is 3."
      ],
      "metadata": {
        "id": "DBtQ_YsZ_DCV"
      }
    },
    {
      "cell_type": "code",
      "source": [
        "vectA = np.array([15,27])\n",
        "vectB = np.array([27,3])\n",
        "\n",
        "R = np.arange(-15,27,2)\n",
        "\n",
        "c1, c2 = np.meshgrid(R,R)\n",
        "\n",
        "vectR = vectA + vectB\n",
        "spanRx = c1*vectA[0] + c2*vectB[0]\n",
        "spanRy = c1*vectA[1] + c2*vectB[1]\n",
        "##plt.scatter(R*vectA[0],R*vectA[1])\n",
        "##plt.scatter(R*vectB[0],R*vectB[1])\n",
        "plt.scatter(spanRx,spanRy, s=5, alpha=0.75)\n",
        "\n",
        "plt.axhline(y=0, color='k')\n",
        "plt.axvline(x=0, color='k')\n",
        "plt.grid()\n",
        "plt.show()"
      ],
      "metadata": {
        "colab": {
          "base_uri": "https://localhost:8080/",
          "height": 268
        },
        "id": "7qOZJ2tdARZ8",
        "outputId": "246d4def-0a64-4691-b0cc-32ef27b6fc10"
      },
      "execution_count": 19,
      "outputs": [
        {
          "output_type": "display_data",
          "data": {
            "text/plain": [
              "<Figure size 432x288 with 1 Axes>"
            ],
            "image/png": "[encoded data removed]"
          },
          "metadata": {
            "needs_background": "light"
          }
        }
      ]
    },
    {
      "cell_type": "markdown",
      "source": [
        "From these results, we can see that the slope and y-intercept of a linear combination determine the shape of the graph."
      ],
      "metadata": {
        "id": "I9jAzLptBOLE"
      }
    },
    {
      "cell_type": "code",
      "source": [
        "vectP = np.array([15,2])\n",
        "vectQ = np.array([27,3])\n",
        "\n",
        "R = np.arange(-15,27,3)\n",
        "\n",
        "c1, c2 = np.meshgrid(R,R)\n",
        "\n",
        "vectR = vectP + vectQ\n",
        "spanRx = c1*vectP[0] + c2*vectQ[0]\n",
        "spanRy = c1*vectP[1] + c2*vectQ[1]\n",
        "##plt.scatter(R*vectA[0],R*vectA[1])\n",
        "##plt.scatter(R*vectB[0],R*vectB[1])\n",
        "plt.scatter(spanRx,spanRy, s=5, alpha=0.75)\n",
        "\n",
        "plt.axhline(y=0, color='k')\n",
        "plt.axvline(x=0, color='k')\n",
        "plt.grid()\n",
        "plt.show()"
      ],
      "metadata": {
        "colab": {
          "base_uri": "https://localhost:8080/",
          "height": 265
        },
        "id": "2YjNA3KZAmhL",
        "outputId": "6d842aa1-fdca-4502-a171-61a321d356e8"
      },
      "execution_count": 20,
      "outputs": [
        {
          "output_type": "display_data",
          "data": {
            "text/plain": [
              "<Figure size 432x288 with 1 Axes>"
            ],
            "image/png": "[encoded data removed]"
          },
          "metadata": {
            "needs_background": "light"
          }
        }
      ]
    },
    {
      "cell_type": "markdown",
      "source": [
        "Linear combinations are a way of combining two or more variables to form a new variable. In this case, we are combining the variables x and b to form the new variable y. The coefficients a and b determine the shape of the graph of the linear combination. For example, a positive coefficient will result in a line that slopes upwards, while a negative coefficient will result in a line that slopes downwards. Additionally, the y-intercept determines where the line intersects the y-axis.\n",
        "\n",
        "There are many different ways to combine variables to form a new variable. In this case, we are using the linear combination y = ax + b. However, there are many other ways to combine variables. For example, we could use the quadratic combination y = ax^2 + bx + c. The choice of combination will depend on the data and the desired results.\n",
        "\n",
        "Linear combinations are a powerful tool for data analysis. They can be used to find relationships between variables, to make predictions, and to understand data sets."
      ],
      "metadata": {
        "id": "Hu5Ek83GHeyC"
      }
    },
    {
      "cell_type": "markdown",
      "source": [
        "##Explanation"
      ],
      "metadata": {
        "id": "ZWT0k-uvINz0"
      }
    },
    {
      "cell_type": "markdown",
      "source": [
        "Different linear combinations can be created by using different scalar values. For example, if we have the vector v = [1, 2], we can create the following linear combinations:\n",
        "\n",
        "v = [1, 2]\n",
        "\n",
        "2v = [2, 4]\n",
        "\n",
        "3v = [3, 6]\n",
        "\n",
        "-v = [-1, -2]\n",
        "\n",
        "1/2 v = [0.5, 1]\n",
        "\n",
        "\n",
        "To declare and display a linear combination, we can use the following flowchart:\n",
        "\n",
        "-First, we create a vector v.\n",
        "\n",
        "-Next, we choose a scalar value s.\n",
        "\n",
        "-Then, we compute the linear combination sv.\n",
        "\n",
        "-Finally, we display the result.\n",
        "\n",
        "For example, using the vector v = [1, 2], we can create the following linear combinations:\n",
        "\n",
        "2v = [2, 4]\n",
        "\n",
        "3v = [3, 6]\n",
        "\n",
        "-v = [-1, -2]\n",
        "\n",
        "1/2 v = [0.5, 1]"
      ],
      "metadata": {
        "id": "_OgPwW5bIGaz"
      }
    },
    {
      "cell_type": "markdown",
      "source": [
        "## Conclusion"
      ],
      "metadata": {
        "id": "E_KKhu2PSivn"
      }
    },
    {
      "cell_type": "markdown",
      "source": [
        "The learnings derived from applying linear combinations are similar to using this process in real-life situations. As a future engineer, the student can apply the concept of linear combination in the face of engineering challenges such as the distance of a particular material into another material and ways simple as calculating income for the student's future career. The linear combination is a helpful process that the student has encountered and applies to a real-life situation, especially in life that includes numerical elements that help the student determine variables such as salary, hourly wage, and even benefits in different careers. Also, after performing the linear combination program with the help of various methodologies in linear algebra, the student has concluded reflect upon such operation can be applied to a realistic view of life."
      ],
      "metadata": {
        "id": "g50flhlbSsq5"
      }
    }
  ]
}